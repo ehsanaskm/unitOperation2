{
 "cells": [
  {
   "cell_type": "markdown",
   "metadata": {},
   "source": [
    "<img src='0.jpg'>"
   ]
  },
  {
   "cell_type": "markdown",
   "metadata": {},
   "source": [
    "<img src='0.png'>"
   ]
  },
  {
   "cell_type": "markdown",
   "metadata": {
    "collapsed": true
   },
   "source": [
    "<img src='fig.png'>"
   ]
  },
  {
   "cell_type": "markdown",
   "metadata": {},
   "source": [
    "$$\\text{Feed}~: F=100~\\frac{kg}{h},~x_F=0.4,~x_{B,F}=0, ~x_{A,F}=0.6$$ \n",
    "--------------------------------------\n",
    "$$\\text{Final raffinate}~:x_{Np}=0.1$$ \n",
    "------------------------------------\n",
    "$$\\text{Solvent}~:y_s=0$$\n",
    "------------------------------------\n",
    "$$Fx_F+Sy_s=Ey_1+Rx_1=Mx_M$$\n",
    "------------------------------------"
   ]
  },
  {
   "cell_type": "markdown",
   "metadata": {},
   "source": [
    "<img src='naming.png'>"
   ]
  },
  {
   "cell_type": "markdown",
   "metadata": {},
   "source": [
    "$$F+S=M$$\n",
    "\n",
    "$$Fx_F+Sy_s=Mx_M$$\n",
    "$$Fx_F+0=Mx_M$$\n",
    "\n",
    "$$Fx_F=(S+F)\\times x_M$$\n",
    "\n",
    "$$x_M=\\frac{Fx_F}{S+F}$$\n",
    "\n",
    "$$S=\\frac{Fx_F}{x_M}-F$$\n",
    "\n",
    "For Minimum solvent:\n",
    "\n",
    "$$S_{min}=\\frac{Fx_F}{x_{M,min}}-F$$"
   ]
  },
  {
   "cell_type": "markdown",
   "metadata": {},
   "source": [
    "<img src='2.png'>"
   ]
  },
  {
   "cell_type": "markdown",
   "metadata": {},
   "source": [
    "$$\\boxed{x_{M,min}=0.32}$$\n",
    "---------------------------\n",
    "$$S_{min}=\\frac{Fx_F}{x_{M,min}}-F$$\n",
    "---------------------------\n",
    "$$S_{min}=25~\\frac{kg}{h}$$\n",
    "-------------------------------"
   ]
  },
  {
   "cell_type": "markdown",
   "metadata": {},
   "source": [
    "$$x_M=\\frac{Fx_F}{S+F}$$\n",
    "\n",
    "$$x_M=\\frac{100 \\times 0.4}{1.8 \\times S_{min}+100}$$\n",
    "\n",
    "$$x_M=0.275$$"
   ]
  },
  {
   "cell_type": "markdown",
   "metadata": {},
   "source": [
    "<img src='3.png'>\n",
    "<img src='4.png'>"
   ]
  },
  {
   "cell_type": "code",
   "execution_count": null,
   "metadata": {
    "collapsed": true
   },
   "outputs": [],
   "source": []
  }
 ],
 "metadata": {
  "kernelspec": {
   "display_name": "Python 3",
   "language": "python",
   "name": "python3"
  },
  "language_info": {
   "codemirror_mode": {
    "name": "ipython",
    "version": 3
   },
   "file_extension": ".py",
   "mimetype": "text/x-python",
   "name": "python",
   "nbconvert_exporter": "python",
   "pygments_lexer": "ipython3",
   "version": "3.6.3"
  }
 },
 "nbformat": 4,
 "nbformat_minor": 2
}

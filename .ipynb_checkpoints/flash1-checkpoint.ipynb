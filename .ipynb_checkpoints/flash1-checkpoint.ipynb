{
 "cells": [
  {
   "cell_type": "code",
   "execution_count": 1,
   "metadata": {
    "collapsed": true
   },
   "outputs": [],
   "source": [
    "import numpy as np\n",
    "import matplotlib.pyplot as plt \n",
    "from scipy.optimize import fsolve\n",
    "%matplotlib inline\n",
    "import thermo as th    \n",
    "\n",
    "\n",
    "\n",
    "\n"
   ]
  },
  {
   "cell_type": "markdown",
   "metadata": {},
   "source": [
    "\n",
    "## Cell Recovery In A Disk Stack Centrifuge:\n",
    "\n",
    "<img src='centri.png'>"
   ]
  },
  {
   "cell_type": "markdown",
   "metadata": {},
   "source": [
    "## (a)\n",
    "\n",
    "Solid recovery is inversly proportional to feed rate:\n",
    "\n",
    "$$\\frac{R_1}{R_2}=\\frac{Q_2}{Q_1}$$\n",
    "\n",
    "where R is recovery percentage and Q is feed rate\n",
    "\n",
    "$$Q_2= Q_1 \\times \\frac{R_1}{R_2}$$\n",
    "\n",
    "$$Q_2= 60 \\times \\frac{50}{90}= 33.3~\\frac{\\text{L}}{\\text{min}} $$\n",
    "\n",
    "## (b)\n",
    "\n",
    "$$\\Sigma = \\frac{Q}{2u_g}$$\n",
    "\n",
    "where Q is volumetric flow rate and $u_g$ is terminal velocity of a particles in gravtional filed and $\\Sigma$ is sigma factor which shows the cross sectional area of a gravity settler with same sedimentation characteristics as centrifuge. \n",
    "\n",
    "If two centrifuges perform with equal effectiveness:\n",
    "\n",
    "------------------------------------------------\n",
    "\n",
    "$$\\frac{Q_1}{\\Sigma_1}=\\frac{Q_2}{\\Sigma_2}$$\n",
    "\n",
    "$$\\frac{\\Sigma_1}{\\Sigma_2}=\\frac{33.33}{60}=0.56$$\n",
    "\n",
    "$\\Sigma$ depends on the centrifuge design:\n",
    "\n",
    "## Disc stack bowl centrifuge with continous discharge of solids: \n",
    "\n",
    "<img src='disc.png'>\n",
    "\n",
    "$$\\boxed{\\Sigma=\\frac{2 \\pi \\omega^2 (N-1)}{3g \\tan \\theta} (r_2^3-r_1^3)}$$\n",
    "\n",
    "where $\\omega$ is the angular velocity (rad/s), N is the number of discs in the stack, $r_2$ is outer radius of the disc, $r_1$ is inner radius of the disc, g is gravational acceleration and $\\theta$ is half-cone angle of the discs.\n",
    "\n",
    "same centrifuge and geometric charactristics are the same:\n",
    "\n",
    "$$\\frac{\\Sigma_1}{\\Sigma_2}=\\frac{\\omega_1^2}{\\omega_2^2}$$\n",
    "\n",
    "$$\\frac{\\Sigma_1}{\\Sigma_2}=0.56~~~\\omega_1=5000 \\text{rpm}~~~\\rightarrow\\omega_2= 6680 ~ rpm$$\n"
   ]
  },
  {
   "cell_type": "markdown",
   "metadata": {},
   "source": [
    "## Flash distillation\n",
    "\n",
    "<img src='flash.png'>"
   ]
  },
  {
   "cell_type": "code",
   "execution_count": 2,
   "metadata": {},
   "outputs": [
    {
     "data": {
      "image/png": "[encoded data removed]",
      "text/plain": [
       "<matplotlib.figure.Figure at 0x7fcaa00d2ac8>"
      ]
     },
     "metadata": {},
     "output_type": "display_data"
    }
   ],
   "source": [
    "a=2.16\n",
    "def ye(x):\n",
    "    return (a*x)/(1+(a-1)*x)\n",
    "\n",
    "x = np.linspace(0,1)\n",
    "plt.plot(x,ye(x))\n",
    "plt.ylabel('y')\n",
    "plt.xlabel('x')\n",
    "plt.xlim(0,1)\n",
    "plt.grid();\n",
    "plt.show()"
   ]
  },
  {
   "cell_type": "markdown",
   "metadata": {},
   "source": [
    "$$-\\frac{W}{D}=\\frac{z_f-y_1}{z_f-x_1}$$"
   ]
  },
  {
   "cell_type": "markdown",
   "metadata": {},
   "source": [
    "$$-\\frac{W}{D}=\\frac{z_f-\\frac{\\alpha x}{1+((\\alpha-1) x)}}{z_f-x_1}$$"
   ]
  },
  {
   "cell_type": "markdown",
   "metadata": {},
   "source": [
    "$$-\\frac{W}{D}=\\frac{0.5-\\frac{2.16 x}{1+((2.16-1) x)}}{0.5-x_1}$$"
   ]
  },
  {
   "cell_type": "markdown",
   "metadata": {},
   "source": [
    "$$F=W+D$$\n",
    "\n",
    "$$1=\\frac{W}{F}+\\frac{D}{F}$$\n",
    "\n",
    "$$1=\\frac{W}{F}+0.6$$\n",
    "\n",
    "$$\\frac{W}{F}=0.4$$\n",
    "\n",
    "$$\\frac{\\frac{W}{F}}{\\frac{D}{F}}=\\frac{W}{D}=0.4/0.6=2/3$$"
   ]
  },
  {
   "cell_type": "code",
   "execution_count": 3,
   "metadata": {},
   "outputs": [
    {
     "name": "stdout",
     "output_type": "stream",
     "text": [
      "x= [ 0.38606095]\n",
      "y= 0.575959366079\n"
     ]
    }
   ],
   "source": [
    "xe=fsolve(lambda x: ((0.5-ye(x))/(0.5-x))+2/3,0)\n",
    "xe=fsolve(lambda x: ((0.5-ye(x))/(0.5-x))+2/3,0)\n",
    "y=ye(xe[0])\n",
    "print('x=',xe)\n",
    "print('y=',y)"
   ]
  },
  {
   "cell_type": "code",
   "execution_count": 4,
   "metadata": {},
   "outputs": [
    {
     "data": {
      "text/plain": [
       "[<matplotlib.lines.Line2D at 0x7fca672e8ac8>]"
      ]
     },
     "execution_count": 4,
     "metadata": {},
     "output_type": "execute_result"
    },
    {
     "data": {
      "image/png": "[encoded data removed]",
      "text/plain": [
       "<matplotlib.figure.Figure at 0x7fca672d03c8>"
      ]
     },
     "metadata": {},
     "output_type": "display_data"
    }
   ],
   "source": [
    "plt.figure(figsize=(8,8))\n",
    "ay = plt.axis()\n",
    "\n",
    "plt.plot(x,ye(x),x,x,'r--')\n",
    "plt.legend(['y vs. x'],loc='best')\n",
    "plt.ylabel('y ')\n",
    "plt.xlabel('x ')\n",
    "plt.xlim(0,1)\n",
    "plt.ylim(0,1)\n",
    "plt.grid();\n",
    "\n",
    "ze=0.5\n",
    "\n",
    "plt.plot([ze,xe],[ze,ye(xe)],'r')\n",
    "plt.plot([ze,ze],[ay[0],ze],'k--',[xe,xe],[ye(xe),ay[0]],'k--')\n",
    "plt.plot([xe,ay[0]],[ye(xe),ye(xe)],'k--',[xe,xe],[ye(xe),ay[0]],'k--')\n",
    "plt.plot([ze,ay[0]],[ze,ze],'k--',[xe,xe],[ye(xe),ay[0]],'k--')\n",
    "\n",
    "plt.text(xe-0.11,ay[2]+0.01,'x = {:.2}'.format(xe[0]))\n",
    "plt.text(xe-0.25,ay[2]+0.59,'y = {:.2}'.format(y))\n",
    "plt.text(xe-0.25,ay[2]+0.51,'z = {:.2}'.format(ze))\n",
    "plt.text(ze+0.01,ay[2]+0.01,'z = {:.2}'.format(ze))\n",
    "\n",
    "plt.annotate('-W/D = (zf-y1)/(zf-x1)',(ze,ze))\n",
    "\n",
    "plt.plot(ze,ze,'bo',ms = 10)\n",
    "plt.plot(xe,ye(xe),'ro',ms = 10)\n"
   ]
  },
  {
   "cell_type": "markdown",
   "metadata": {
    "collapsed": true
   },
   "source": [
    "## Leaching  \n",
    "\n",
    "\n",
    "<img src='leaching.png'>"
   ]
  },
  {
   "cell_type": "markdown",
   "metadata": {},
   "source": [
    "# Basis: \n",
    "\n",
    "$100~\\text{lb exhausted liver}$\n",
    "\n",
    "\n",
    "# oil in inlet liver:\n",
    "\n",
    "$ 0.043 \\frac{\\text{gals oil}}{\\text{lb livers}} \\times 100 ~ \\text{lb liver} = 4.3 ~ \\text{gals oil}$\n",
    "\n",
    "# oil in exhausted liver:\n",
    "\n",
    "$4.3~ \\text{gals oil}\\times (1- \\frac{\\% \\text{recovery}}{100})= 4.3 \\times 0.05 =0.215~\\text{gals oil}$\n",
    "\n",
    "# oil in product (ether outlet):\n",
    "\n",
    "$4.3 \\times (\\frac{\\% \\text{recovery}}{100})= 4.3 \\times 0.95 =4.085~\\text{gals oil}$\n",
    "\n",
    "# final extract :\n",
    "\n",
    "$0.65~\\frac{\\text{gals oil}}{\\text{gals extract}}$"
   ]
  },
  {
   "cell_type": "code",
   "execution_count": 2,
   "metadata": {},
   "outputs": [
    {
     "ename": "SyntaxError",
     "evalue": "invalid syntax (<ipython-input-2-ecbfe8d9496c>, line 1)",
     "output_type": "error",
     "traceback": [
      "\u001b[0;36m  File \u001b[0;32m\"<ipython-input-2-ecbfe8d9496c>\"\u001b[0;36m, line \u001b[0;32m1\u001b[0m\n\u001b[0;31m    <img src='leaching2.jpg'>\u001b[0m\n\u001b[0m    ^\u001b[0m\n\u001b[0;31mSyntaxError\u001b[0m\u001b[0;31m:\u001b[0m invalid syntax\n"
     ]
    }
   ],
   "source": [
    "<img src='leaching2.jpg'>"
   ]
  },
  {
   "cell_type": "markdown",
   "metadata": {
    "collapsed": true
   },
   "source": [
    "$$\\boxed{\\textbf{x},\\textbf{y}}= \\frac{\\text{gals oil}}{\\text{gals total solution}}~~~~ x\\rightarrow L~\\text{and}~y\\rightarrow V$$\n",
    "\n",
    "$$0.65=\\frac{\\text{gals oil}}{\\text{gals total solution}}=\\frac{4.085}{E_l+4.085}~ \\rightarrow ~ E_l=~2.20~\\text{gals ether}$$\n",
    "\n",
    "$$x_2=\\frac{\\text{gals oil}}{\\text{gals total solution}}=\\frac{0.215}{0.215+E_e}$$\n",
    "\n",
    "$$\\boxed{x_2=\\frac{0.215}{0.215+E_e}}~~~(1)$$\n",
    "\n",
    "$$\\boxed{E_e=100C-0.215}~~~(2)$$\n",
    "\n",
    "$$\\boxed{C=f(x_2) \\rightarrow \\text{table}}~~~(3)$$\n",
    "\n",
    "$$\\boxed{C} \\rightarrow~\\text{table}~\\boxed{x_2} \\rightarrow (1)~\\text{and}~(2)~\\boxed{E_e}$$\n",
    "\n",
    "$C= 0.0392~\\text{gals}$\n",
    "\n",
    "$E_e=3.7~\\text{gals}$\n",
    "\n",
    "$x_2=0.055$"
   ]
  },
  {
   "cell_type": "markdown",
   "metadata": {},
   "source": [
    "## Liquid-liquid extraction\n",
    "\n",
    "<img src='02.png'>\n",
    "\n",
    "<img src='1stage.jpg'>"
   ]
  },
  {
   "cell_type": "markdown",
   "metadata": {},
   "source": [
    "$$\\text{Feed}~: F=100~\\frac{kg}{h},~x_F=0.4,~x_{B,F}=0, ~x_{A,F}=0.6$$ \n",
    "--------------------------------------\n",
    "$$\\text{Solvent}~:S=B=45~\\frac{kg}{h}, y_s=0$$\n",
    "------------------------------------\n",
    "$$M=F+S$$\n",
    "------------------------------------\n",
    "$$Fx_F+Sy_s=Ey_1+Rx_1=Mx_M$$\n",
    "\n",
    "------------------------------------\n",
    "\n",
    "$$Fx_F+Sy_s=Mx_M$$\n",
    "\n",
    "$$Fx_F+0=Mx_M$$\n",
    "\n",
    "$$Fx_F=(S+F)\\times x_M$$\n",
    "\n",
    "$$x_M=\\frac{Fx_F}{S+F}$$\n",
    "\n",
    "$$x_M=\\frac{100 \\times 0.4}{100+45}= 0.275$$"
   ]
  },
  {
   "cell_type": "markdown",
   "metadata": {},
   "source": [
    "<img src='1stage.png'>"
   ]
  },
  {
   "cell_type": "code",
   "execution_count": null,
   "metadata": {
    "collapsed": true
   },
   "outputs": [],
   "source": []
  }
 ],
 "metadata": {
  "anaconda-cloud": {},
  "kernelspec": {
   "display_name": "Python 3",
   "language": "python",
   "name": "python3"
  },
  "language_info": {
   "codemirror_mode": {
    "name": "ipython",
    "version": 3
   },
   "file_extension": ".py",
   "mimetype": "text/x-python",
   "name": "python",
   "nbconvert_exporter": "python",
   "pygments_lexer": "ipython3",
   "version": "3.6.3"
  }
 },
 "nbformat": 4,
 "nbformat_minor": 1
}

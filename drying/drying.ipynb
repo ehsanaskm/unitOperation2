{
 "cells": [
  {
   "cell_type": "markdown",
   "metadata": {},
   "source": [
    "# Drying \n",
    "\n",
    "kg moisture = $m_v$, \n",
    "kg wet solid = $m_w$,\n",
    "kg dry solid = $m_s$\n",
    "\n",
    "## Moisture content, wet basis (x):\n",
    "\n",
    "$$ \\text{x = kg moisture / (kg moisture+kg dry solid)} = \\frac{m_v}{m_w}$$\n",
    "\n",
    "\n",
    "## Moisture content, dry basis (X):\n",
    "\n",
    "$$ \\text{X = kg moisture / kg dry solid} = \\frac{m_v}{m_w-m_v} = \\frac{x}{1-x} $$\n",
    "\n",
    "$$x=\\frac{X}{1+X}$$\n",
    "\n",
    "## other definitions: \n",
    "\n",
    "$$ m_s = m_w(1-x) \\longrightarrow x=\\frac{X}{1+X} \\longrightarrow m_s=\\frac{m_w}{1+X} $$\n",
    "\n",
    "\n"
   ]
  },
  {
   "cell_type": "markdown",
   "metadata": {},
   "source": [
    "-----------------------\n",
    "# Exercise 1:  A wet solid is to be dried from $80$ to $5\\%$ moisture, wet basis. Compute the moisture to be evaporated, per $1000~\\text{kg}$ of dried product."
   ]
  },
  {
   "cell_type": "markdown",
   "metadata": {},
   "source": [
    "intial moisture content: $X=\\frac{x}{1-x}=\\frac{0.8}{1-0.8}=4.00~\\text{kg water/kg dry solid}$\n",
    "\n",
    "final moisture content: $X=\\frac{x}{1-x}=\\frac{0.05}{1-0.05}=0.0527~\\text{kg water/kg dry solid}$\n",
    "\n",
    "Dry solid in product: $m_s=m_w(1-x)=1000\\times(1-0.05)=950~\\text{kg}$\n",
    "\n",
    "Moisture to be evaporated: $(X_1-X_2)\\times m_s = (4.00 - 0.0527)\\times 950 = 3750~ \\text{kg}$"
   ]
  },
  {
   "cell_type": "markdown",
   "metadata": {},
   "source": [
    "## The rate of drying:\n",
    "\n",
    "N: flux of drying\n",
    "\n",
    "A: wet surface \n",
    "\n",
    "$$ - N\\times A = \\frac{dm_w}{dt} $$\n",
    "\n",
    "$$- N=\\frac{dm_w}{A dt} \\longrightarrow m_w=m_s(1+X) \\longrightarrow N = - \\frac{m_s}{A} \\frac{dX}{dt} $$\n",
    "\n",
    "$$t= - \\frac{m_s}{A} \\int_{X1}^{X2} \\frac{dX}{N} $$\n",
    "\n",
    "\n",
    "<img src='drying.png'>\n",
    "\n",
    "## (1) constant: $N=N_c \\longrightarrow - \\frac{m_s}{A N_c} \\int_{X1}^{X2} dX =  \\frac{m_s}{A N_c} (X_1-X_2)$ \n",
    "\n",
    "## (2) linear: $N=mX+b, m=\\frac{N_2-N_1}{X_2-X1} \\longrightarrow - \\frac{m_s}{A} \\int_{X1}^{X2} \\frac{dX}{N} = - \\frac{m_s}{A} \\int_{X1}^{X2} \\frac{dX}{mX+b}= - \\frac{m_s}{A\\times m} \\int_{X1}^{X2} \\frac{m dX}{mX+b} = - \\frac{m_s}{A\\times m} \\frac{ln~mX_2+b}{ln~mX_1+b}= - \\frac{m_s}{A\\times m} \\frac{ln~N_2}{ln~N_1} =  \\frac{m_s}{A\\times m} \\frac{ln~N_1}{ln~N_2}$\n",
    "\n",
    "## (3) non-linear: $\\text{area of 1/N vs. X}$"
   ]
  },
  {
   "cell_type": "markdown",
   "metadata": {},
   "source": [
    "# Exercise 2: A batch of the solid for which Figure is the drying curve is to be dried from $25$ to $6\\%$ moisture under conditions identical to those for which the figure applies. The initial weight of the wet solid is $160~\\text{kg}$, and the drying surface is $1 m^2/40~\\text{kg}$ dry weight. Determine the time for drying."
   ]
  },
  {
   "cell_type": "markdown",
   "metadata": {},
   "source": [
    "The total weight of the batch is unimportant. $m_s/A=40$. At $25\\%$ moisture, $X_1=0.333$ kg moisture/kg dry solid. At $6\\%$ moisture, $X2 = 0.064$ kg moisture/kg dry solid.\n",
    "\n",
    "constant period: $X_1 = 0.333$ to $X_c = 0.200$ and $Nc = 0.30\\times10^{-3}$\n",
    "\n",
    "$t_1= \\frac{m_s}{A N_c} (X_1-X_c)= 17730~s$\n",
    "\n",
    "$t_2=\\frac{m_s (X_1-X_2)}{A\\times (N_1-N_2)} \\frac{ln~N_1}{ln~N_2}=18500$\n",
    "\n",
    "<img src='drying2.png'>\n",
    "\n",
    "Simpson: $I=h/3 \\times [f_0+4f_1+2f_2+4f_3+f_4] \\longrightarrow 40 \\times \\longrightarrow  I=712.35, t_3=28494$\n",
    "\n",
    "$t_{total}=t_1+t_2+t_3=64724~s=17.97~h$"
   ]
  },
  {
   "cell_type": "code",
   "execution_count": null,
   "metadata": {
    "collapsed": true
   },
   "outputs": [],
   "source": []
  }
 ],
 "metadata": {
  "kernelspec": {
   "display_name": "Python 3",
   "language": "python",
   "name": "python3"
  },
  "language_info": {
   "codemirror_mode": {
    "name": "ipython",
    "version": 3
   },
   "file_extension": ".py",
   "mimetype": "text/x-python",
   "name": "python",
   "nbconvert_exporter": "python",
   "pygments_lexer": "ipython3",
   "version": "3.6.3"
  }
 },
 "nbformat": 4,
 "nbformat_minor": 2
}
